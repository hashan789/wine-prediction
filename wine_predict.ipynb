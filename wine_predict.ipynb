{
  "nbformat": 4,
  "nbformat_minor": 0,
  "metadata": {
    "colab": {
      "provenance": [],
      "authorship_tag": "ABX9TyNmt5K3x/7sUTpY4v30704i",
      "include_colab_link": true
    },
    "kernelspec": {
      "name": "python3",
      "display_name": "Python 3"
    },
    "language_info": {
      "name": "python"
    }
  },
  "cells": [
    {
      "cell_type": "markdown",
      "metadata": {
        "id": "view-in-github",
        "colab_type": "text"
      },
      "source": [
        "<a href=\"https://colab.research.google.com/github/hashan789/wine-prediction/blob/main/wine_predict.ipynb\" target=\"_parent\"><img src=\"https://colab.research.google.com/assets/colab-badge.svg\" alt=\"Open In Colab\"/></a>"
      ]
    },
    {
      "cell_type": "code",
      "execution_count": 1,
      "metadata": {
        "id": "po4ToTtjyxxV"
      },
      "outputs": [],
      "source": [
        "import numpy as np\n",
        "from collections import Counter\n",
        "\n",
        "def euclidean_distance(x1, x2):\n",
        "   distance = np.sqrt(np.sum((x1-x2)**2))\n",
        "   return distance\n",
        "\n",
        "\n",
        "class KNN:\n",
        "  def __init__(self,k=3):\n",
        "    self.k = k\n",
        "\n",
        "  def fit(self,X,Y):\n",
        "    self.X_train = X\n",
        "    self.Y_train = Y\n",
        "\n",
        "  def predict(self, X):\n",
        "    predictions = [self._predict(x) for x in X]\n",
        "    return predictions\n",
        "  \n",
        "  def _predict(self, x):\n",
        "    #compute the distance\n",
        "    distances = [euclidean_distance(x,x_train) for x_train in self.X_train]\n",
        "\n",
        "    #get the closet x\n",
        "    k_indices = np.argsort(distances)[:self.k]\n",
        "    k_nearset_labels = [self.Y_train[i] for i in k_indices]\n",
        "\n",
        "    #majority vote - get the label with majority vote\n",
        "    most_common = Counter(k_nearset_labels).most_common()\n",
        "    return most_common[0][0]\n",
        "\n",
        "\n",
        "\n",
        "  \n",
        "  "
      ]
    },
    {
      "cell_type": "code",
      "source": [
        "from sklearn.model_selection import train_test_split\n",
        "import matplotlib.pyplot as plt\n",
        "import pandas as pd\n",
        "import warnings\n",
        "warnings.simplefilter(action='ignore',category=FutureWarning)\n",
        "\n",
        "url = \"https://archive.ics.uci.edu/ml/machine-learning-databases/wine/wine.data\"\n",
        "\n",
        "\n",
        "#Assign names to the columns of the dataset\n",
        "names = ['Alcohol','Malic acid','Ash','Alcalinity of ash','Magnesium','Total phenols','Flavanoids','Nonflavanoid phenols','Proanthocyanins','Color intensity','Hue','OD280/OD315 of diluted wines','Proline']\n",
        "\n",
        "#Read dataset\n",
        "dataset = pd.read_csv(url , names=names)\n",
        "\n",
        "x = dataset.iloc[: , 0:13].values  #columns of wine dataset - X-axis\n",
        "y = dataset.iloc[: , -3].values    #values of Hue - Y-axis [13-3 = 10 -> 10th column]\n",
        "\n",
        "#split the dataset into test and train\n",
        "X_train,X_test,Y_train,Y_test=train_test_split(x,y,test_size=.2,random_state=1234)\n"
      ],
      "metadata": {
        "id": "hbu4mSJI4OpC"
      },
      "execution_count": 66,
      "outputs": []
    },
    {
      "cell_type": "code",
      "source": [
        "y.head()"
      ],
      "metadata": {
        "id": "6CdmFQgTZLnR",
        "outputId": "cc6b32c8-c02f-43ed-f4f6-3113b49eeb3b",
        "colab": {
          "base_uri": "https://localhost:8080/"
        }
      },
      "execution_count": 63,
      "outputs": [
        {
          "output_type": "execute_result",
          "data": {
            "text/plain": [
              "1    1.04\n",
              "1    1.05\n",
              "1    1.03\n",
              "1    0.86\n",
              "1    1.04\n",
              "Name: Hue, dtype: float64"
            ]
          },
          "metadata": {},
          "execution_count": 63
        }
      ]
    },
    {
      "cell_type": "code",
      "source": [
        "#---- Data Cleaning -----\n",
        "\n",
        "# Are there any records with NaN data?\n",
        "NaN_data = dataset.isnull().any()\n",
        "if NaN_data.any():\n",
        "    print(\"Some records have NaN values. These will be removed...\\n\")\n",
        "    before_rows, before_cols = dataset.shape\n",
        "    wine_df = dataset.dropna()\n",
        "    after_rows, after_cols = wine_df.shape\n",
        "    print(\"Dropped\", after_rows - before_rows, \"records. Cleaned dataframe has\", after_rows, \"records.\\n\")\n",
        "else:\n",
        "    print(\"There are no records with NaN values. Dataframe is already clean.\\n\")"
      ],
      "metadata": {
        "colab": {
          "base_uri": "https://localhost:8080/"
        },
        "id": "Lsy0jBwnBkfS",
        "outputId": "ac67612b-5882-429b-a86a-9305d8a9c6c8"
      },
      "execution_count": 13,
      "outputs": [
        {
          "output_type": "stream",
          "name": "stdout",
          "text": [
            "There are no records with NaN values. Dataframe is already clean.\n",
            "\n"
          ]
        }
      ]
    },
    {
      "cell_type": "code",
      "source": [
        "clf = KNN(k=3)\n",
        "clf.fit(X_train, Y_train)\n",
        "predictions = clf.predict(X_test)\n",
        "\n",
        "print(\"predictions are \", predictions)\n",
        "\n",
        "result = (predictions == Y_test)\n",
        "\n",
        "accuracy_score = np.sum(result) / len(Y_test)\n",
        "print(\"accuracy_score is\",accuracy_score)"
      ],
      "metadata": {
        "colab": {
          "base_uri": "https://localhost:8080/"
        },
        "id": "CyGNAfEtBpem",
        "outputId": "6955c994-59ca-421a-8593-cb74c81bea56"
      },
      "execution_count": 67,
      "outputs": [
        {
          "output_type": "stream",
          "name": "stdout",
          "text": [
            "predictions are  [0.86, 0.86, 0.94, 1.04, 1.03, 1.06, 0.57, 1.25, 1.07, 0.57, 0.7, 1.23, 1.25, 0.97, 0.86, 1.06, 1.08, 0.6, 0.75, 0.89, 1.04, 0.79, 1.45, 0.89, 1.36, 0.56, 0.6, 1.19, 1.02, 1.36, 1.11, 0.56, 1.12, 1.36, 0.48, 1.23]\n",
            "accuracy_score is 0.08333333333333333\n"
          ]
        }
      ]
    }
  ]
}