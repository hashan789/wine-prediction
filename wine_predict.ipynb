{
  "nbformat": 4,
  "nbformat_minor": 0,
  "metadata": {
    "colab": {
      "provenance": [],
      "authorship_tag": "ABX9TyPsW56g8eeNwogMb1K0kjnF",
      "include_colab_link": true
    },
    "kernelspec": {
      "name": "python3",
      "display_name": "Python 3"
    },
    "language_info": {
      "name": "python"
    }
  },
  "cells": [
    {
      "cell_type": "markdown",
      "metadata": {
        "id": "view-in-github",
        "colab_type": "text"
      },
      "source": [
        "<a href=\"https://colab.research.google.com/github/hashan789/wine-prediction/blob/main/wine_predict.ipynb\" target=\"_parent\"><img src=\"https://colab.research.google.com/assets/colab-badge.svg\" alt=\"Open In Colab\"/></a>"
      ]
    },
    {
      "cell_type": "code",
      "execution_count": 72,
      "metadata": {
        "id": "po4ToTtjyxxV"
      },
      "outputs": [],
      "source": [
        "import numpy as np\n",
        "from collections import Counter\n",
        "\n",
        "def euclidean_distance(x1, x2):\n",
        "   distance = np.sqrt(np.sum((x1-x2)**2))\n",
        "   return distance\n",
        "\n",
        "\n",
        "class KNN:\n",
        "  def __init__(self,k=3):\n",
        "    self.k = k\n",
        "\n",
        "  def fit(self,X,Y):\n",
        "    self.X_train = X\n",
        "    self.Y_train = Y\n",
        "\n",
        "  def predict(self, X):\n",
        "    predictions = [self._predict(x) for x in X]\n",
        "    return predictions\n",
        "  \n",
        "  def _predict(self, x):\n",
        "    #compute the distance\n",
        "    distances = [euclidean_distance(x,x_train) for x_train in self.X_train]\n",
        "\n",
        "    #get the closet x\n",
        "    k_indices = np.argsort(distances)[:self.k]\n",
        "    k_nearset_labels = [self.Y_train[i] for i in k_indices]\n",
        "\n",
        "    #majority vote - get the label with majority vote\n",
        "    most_common = Counter(k_nearset_labels).most_common()\n",
        "    return most_common[0][0]\n",
        "\n",
        "\n",
        "\n",
        "  \n",
        "  "
      ]
    },
    {
      "cell_type": "code",
      "source": [
        "from sklearn.model_selection import train_test_split\n",
        "import matplotlib.pyplot as plt\n",
        "import pandas as pd\n",
        "import warnings\n",
        "warnings.simplefilter(action='ignore',category=FutureWarning)\n",
        "\n",
        "url = \"https://archive.ics.uci.edu/ml/machine-learning-databases/wine/wine.data\"\n",
        "\n",
        "\n",
        "#Assign names to the columns of the dataset\n",
        "names = ['Alcohol','Malic acid','Ash','Alcalinity of ash','Magnesium','Total phenols','Flavanoids','Nonflavanoid phenols','Proanthocyanins','Color intensity','Hue','OD280/OD315 of diluted wines','Proline']\n",
        "\n",
        "#Read dataset\n",
        "dataset = pd.read_csv(url , names=names)\n",
        "\n",
        "things = dataset.values\n",
        "x = things[: , 0:13]\n",
        "y = things[: , 0]\n",
        "\n",
        "#split the dataset into test and train\n",
        "X_train,X_test,Y_train,Y_test=train_test_split(x,y,test_size=.25,random_state=1234)\n"
      ],
      "metadata": {
        "id": "hbu4mSJI4OpC"
      },
      "execution_count": 49,
      "outputs": []
    },
    {
      "cell_type": "code",
      "source": [
        "#---- Data Cleaning -----\n",
        "\n",
        "# Are there any records with NaN data?\n",
        "NaN_data = dataset.isnull().any()\n",
        "if NaN_data.any():\n",
        "    print(\"Some records have NaN values. These will be removed...\\n\")\n",
        "    before_rows, before_cols = dataset.shape\n",
        "    wine_df = dataset.dropna()\n",
        "    after_rows, after_cols = wine_df.shape\n",
        "    print(\"Dropped\", after_rows - before_rows, \"records. Cleaned dataframe has\", after_rows, \"records.\\n\")\n",
        "else:\n",
        "    print(\"There are no records with NaN values. Dataframe is already clean.\\n\")"
      ],
      "metadata": {
        "colab": {
          "base_uri": "https://localhost:8080/"
        },
        "id": "Lsy0jBwnBkfS",
        "outputId": "d95e2c08-70df-4712-ee1d-21bf619f0594"
      },
      "execution_count": 59,
      "outputs": [
        {
          "output_type": "stream",
          "name": "stdout",
          "text": [
            "There are no records with NaN values. Dataframe is already clean.\n",
            "\n"
          ]
        }
      ]
    },
    {
      "cell_type": "code",
      "source": [
        "clf = KNN(k=3)\n",
        "clf.fit(X_train, Y_train)\n",
        "predictions = clf.predict(X_test)\n",
        "\n",
        "print(\"predictions are \", predictions)\n",
        "\n",
        "accuracy_score = np.sum(predictions == Y_test)/len(Y_test)\n",
        "print(\"accuracy_score is\",accuracy_score)"
      ],
      "metadata": {
        "colab": {
          "base_uri": "https://localhost:8080/"
        },
        "id": "CyGNAfEtBpem",
        "outputId": "fa403774-f482-4fec-f741-62928d8e30fb"
      },
      "execution_count": 74,
      "outputs": [
        {
          "output_type": "stream",
          "name": "stdout",
          "text": [
            "predictions are  [12.42, 12.07, 11.82, 12.51, 12.93, 12.42, 13.48, 12.33, 13.29, 13.48, 13.4, 12.67, 14.1, 11.79, 12.42, 12.33, 14.83, 13.17, 12.51, 13.52, 14.38, 11.84, 12.17, 12.84, 11.65, 13.52, 13.17, 13.73, 14.12, 11.65, 13.71, 12.25, 12.37, 11.65, 12.79, 12.67, 14.23, 13.64, 14.12, 14.06, 13.4, 13.9, 11.41, 11.84, 13.5]\n",
            "accuracy_score is 0.0\n"
          ]
        }
      ]
    }
  ]
}